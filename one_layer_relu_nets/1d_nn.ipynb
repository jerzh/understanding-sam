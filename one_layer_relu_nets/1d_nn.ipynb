{
 "cells": [
  {
   "cell_type": "code",
   "execution_count": 1,
   "metadata": {},
   "outputs": [
    {
     "data": {
      "text/plain": [
       "<torch._C.Generator at 0x7f05057a5d10>"
      ]
     },
     "execution_count": 1,
     "metadata": {},
     "output_type": "execute_result"
    }
   ],
   "source": [
    "import torch\n",
    "from torch.autograd import Variable\n",
    "import torch.nn.functional as F\n",
    "import math\n",
    "import os\n",
    "\n",
    "import matplotlib.pyplot as plt\n",
    "%matplotlib inline\n",
    "\n",
    "import numpy as np\n",
    "\n",
    "\n",
    "torch.manual_seed(5)    # fix random seed for reproducibility"
   ]
  },
  {
   "cell_type": "code",
   "execution_count": 2,
   "metadata": {},
   "outputs": [
    {
     "data": {
      "image/png": "[encoded data removed]",
      "text/plain": [
       "<Figure size 720x288 with 1 Axes>"
      ]
     },
     "metadata": {
      "needs_background": "light"
     },
     "output_type": "display_data"
    }
   ],
   "source": [
    "x = torch.Tensor((np.array([-5.5,-4.5,-3.5,-2.5,-1.5,-0.5,0.5,1.5,2.5,3.5,4.5,5.5])/4+0.07).reshape(-1,1))  # same data as paper by Maennel\n",
    "y = torch.Tensor(.345 + np.array([-2, 1.5, 0, 0, 2, 1, 0, -1, 0, 1, 2, -1]).reshape(-1,1)) \n",
    "\n",
    "# torch can only train on Variable, so convert them to Variable\n",
    "x, y = Variable(x), Variable(y)\n",
    "\n",
    "# view data\n",
    "plt.figure(figsize=(10,4))\n",
    "plt.scatter(x.data.numpy(), y.data.numpy(), color = \"orange\")\n",
    "plt.xlabel('x')\n",
    "plt.ylabel('y')\n",
    "plt.show()"
   ]
  },
  {
   "cell_type": "code",
   "execution_count": 3,
   "metadata": {},
   "outputs": [],
   "source": [
    "import torch.nn as nn\n",
    "\n",
    "\n",
    "class Net(torch.nn.Module):\n",
    "    \"\"\"\n",
    "    1 hidden layer Relu network\n",
    "    \"\"\"\n",
    "    def __init__(self, n_feature, n_hidden, n_output, init_scale=1, bias=True):\n",
    "        \"\"\"\n",
    "        n_feature: dimension of input\n",
    "        n_hidden: number of hidden neurons\n",
    "        n_output: dimension of output\n",
    "        init_scale: all the weights are initialized ~ N(0, init_scale^2/m) where m is the input dimension of this layer\n",
    "        bias: if True, use bias parameters in all layers. Use no bias otherwise\n",
    "        \"\"\"\n",
    "        super(Net, self).__init__()\n",
    "        self.init_scale = init_scale\n",
    "        \n",
    "        # The initialization follows the one from Blanc et al.\n",
    "        self.hidden = torch.nn.Linear(n_feature, n_hidden, bias=bias)   # hidden layer with rescaled init\n",
    "        self.hidden.weight.data = torch.rand_like(self.hidden.weight)\n",
    "        self.hidden.weight.data = 2.5 * (-1 + 2 * torch.round(self.hidden.weight.data)) * init_scale\n",
    "        self.hidden.bias.data = torch.randn_like(self.hidden.bias)\n",
    "        self.hidden.bias.data = self.hidden.bias.data * 2.5 * init_scale\n",
    "        \n",
    "        self.predict = torch.nn.Linear(n_hidden, n_output, bias=False)   # output layer with rescaled init\n",
    "        self.predict.weight.data = torch.randn_like(self.predict.weight)\n",
    "        self.predict.weight.data = self.predict.weight.data * 4.0 * init_scale\n",
    "\n",
    "    def forward(self, z):\n",
    "        z = F.relu(self.hidden(z))      # activation function for hidden layer\n",
    "        z = self.predict(z)             # linear output\n",
    "        return z"
   ]
  },
  {
   "cell_type": "code",
   "execution_count": null,
   "metadata": {},
   "outputs": [],
   "source": [
    "for seed in [0, 1, 2, 3, 4]:\n",
    "    np.random.seed(seed)\n",
    "    torch.manual_seed(seed)\n",
    "    init_scale = 1.0\n",
    "    net = Net(n_feature=1, n_hidden=100, n_output=1, init_scale=init_scale)     # define the network\n",
    "\n",
    "    lr_decay = True\n",
    "    sam_grad_normalization = True\n",
    "    lr_max = 0.00005  \n",
    "    rho = 0.0  # use 0.3 for SAM\n",
    "    optimizer = torch.optim.SGD(net.parameters(), lr=lr_max)#, momentum=0.9)\n",
    "    loss_func = torch.nn.MSELoss(reduction='sum')  # this is for regression mean squared loss\n",
    "\n",
    "    n_samples = x.shape[0]\n",
    "    iter_max = 1000000\n",
    "    n_batch = n_samples # batch size for SGD\n",
    "\n",
    "    loss = torch.Tensor(np.array(np.inf))\n",
    "    # train the network\n",
    "    n_iterations = 0 # number of descent steps\n",
    "    while n_iterations<iter_max+1 and loss > 10**-5:\n",
    "        n_iterations += 1\n",
    "        # optimizer.param_groups[0]['lr'] = lr_max * (0.5 + 0.5*math.cos(math.pi * n_iterations / iter_max))\n",
    "        indices = np.random.choice(n_samples, size=n_batch, replace=False)\n",
    "        batch_x, batch_y = x[indices], y[indices]\n",
    "\n",
    "        prediction = net(batch_x)     # input x and predict based on x\n",
    "        loss = 0.5*loss_func(prediction, batch_y)     # must be (1. nn output, 2. target)\n",
    "\n",
    "        if n_iterations % 2000 == 1:\n",
    "            print(n_iterations, loss)\n",
    "\n",
    "        optimizer.zero_grad()   # clear gradients for next train\n",
    "        loss.backward()         # backpropagation, compute gradients\n",
    "\n",
    "        if rho > 0.0:\n",
    "            orig_weights = [param.clone() for param in list(net.parameters())]\n",
    "            optimizer.param_groups[0]['lr'] = -rho\n",
    "\n",
    "            if sam_grad_normalization:\n",
    "                with torch.no_grad():\n",
    "                    grad_norm = 0\n",
    "                    for param_curr in net.parameters():\n",
    "                        grad_norm += (param_curr.grad**2).sum() \n",
    "                    grad_norm = grad_norm**0.5\n",
    "                    for param_curr in net.parameters():\n",
    "                        param_curr.grad /= grad_norm\n",
    "            # print(net.hidden.weight.grad[:5])\n",
    "            optimizer.step()        # descent step\n",
    "            \n",
    "            if lr_decay:\n",
    "                # optimizer.param_groups[0]['lr'] = lr_max * (0.5 + 0.5*math.cos(math.pi * n_iterations / iter_max))\n",
    "                optimizer.param_groups[0]['lr'] = lr_max * (1 - n_iterations / iter_max)\n",
    "            else:\n",
    "                optimizer.param_groups[0]['lr'] = lr_max\n",
    "\n",
    "            prediction = net(batch_x)     # input x and predict based on x\n",
    "            loss = 0.5*loss_func(prediction, batch_y)     # must be (1. nn output, 2. target)\n",
    "        \n",
    "            optimizer.zero_grad()   # clear gradients for next train\n",
    "            loss.backward()         # backpropagation, compute gradients\n",
    "\n",
    "            for param_curr, param_orig, in zip(list(net.parameters()), orig_weights):\n",
    "                param_curr.data = param_orig.data\n",
    "        # print(net.hidden.weight.grad[:5])\n",
    "        optimizer.step()        # descent step\n",
    "\n",
    "    print(n_iterations, loss)\n",
    "\n",
    "    torch.save(net, 'models_simple/model-lr={}-rho={}-seed={}.pt'.format(lr_max, rho, seed))\n",
    "\n",
    "    # plot and show learning process\n",
    "    plt.figure()\n",
    "    # plt.title('Regression')\n",
    "    plt.xlabel('x')\n",
    "    plt.ylabel('y')\n",
    "    plt.scatter(x.data.numpy(), y.data.numpy(), color=\"orange\")\n",
    "    plt.ylim(1.3*y.data.numpy().min(), 1.2*y.data.numpy().max())\n",
    "    grid_step = 0.01\n",
    "    x_grid = np.arange(x.data.numpy().min() - 5*grid_step, x.data.numpy().max() + 5*grid_step, grid_step)\n",
    "    y_preds = net(torch.Tensor(x_grid.reshape(-1, 1))).detach()\n",
    "    plt.plot(x_grid, y_preds, 'g-', lw=3)\n",
    "    plt.show()\n",
    "    print(n_iterations)"
   ]
  }
 ],
 "metadata": {
  "kernelspec": {
   "display_name": "Python 3",
   "language": "python",
   "name": "python3"
  },
  "language_info": {
   "codemirror_mode": {
    "name": "ipython",
    "version": 3
   },
   "file_extension": ".py",
   "mimetype": "text/x-python",
   "name": "python",
   "nbconvert_exporter": "python",
   "pygments_lexer": "ipython3",
   "version": "3.8.10"
  }
 },
 "nbformat": 4,
 "nbformat_minor": 2
}
